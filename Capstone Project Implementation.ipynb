{
 "cells": [
  {
   "cell_type": "markdown",
   "metadata": {},
   "source": [
    "# Capstone Project \n",
    "## Africa Soil Property Prediction Challenge \n",
    "### Brendan Connolly 08/09/18"
   ]
  },
  {
   "cell_type": "code",
   "execution_count": 1,
   "metadata": {},
   "outputs": [
    {
     "data": {
      "text/html": [
       "<div>\n",
       "<style scoped>\n",
       "    .dataframe tbody tr th:only-of-type {\n",
       "        vertical-align: middle;\n",
       "    }\n",
       "\n",
       "    .dataframe tbody tr th {\n",
       "        vertical-align: top;\n",
       "    }\n",
       "\n",
       "    .dataframe thead th {\n",
       "        text-align: right;\n",
       "    }\n",
       "</style>\n",
       "<table border=\"1\" class=\"dataframe\">\n",
       "  <thead>\n",
       "    <tr style=\"text-align: right;\">\n",
       "      <th></th>\n",
       "      <th>PIDN</th>\n",
       "      <th>m7497.96</th>\n",
       "      <th>m7496.04</th>\n",
       "      <th>m7494.11</th>\n",
       "      <th>m7492.18</th>\n",
       "      <th>m7490.25</th>\n",
       "      <th>m7488.32</th>\n",
       "      <th>m7486.39</th>\n",
       "      <th>m7484.46</th>\n",
       "      <th>m7482.54</th>\n",
       "      <th>...</th>\n",
       "      <th>LSTD</th>\n",
       "      <th>LSTN</th>\n",
       "      <th>REF1</th>\n",
       "      <th>REF2</th>\n",
       "      <th>REF3</th>\n",
       "      <th>REF7</th>\n",
       "      <th>RELI</th>\n",
       "      <th>TMAP</th>\n",
       "      <th>TMFI</th>\n",
       "      <th>Depth</th>\n",
       "    </tr>\n",
       "  </thead>\n",
       "  <tbody>\n",
       "    <tr>\n",
       "      <th>0</th>\n",
       "      <td>XNhoFZW5</td>\n",
       "      <td>0.302553</td>\n",
       "      <td>0.301137</td>\n",
       "      <td>0.299748</td>\n",
       "      <td>0.300354</td>\n",
       "      <td>0.302679</td>\n",
       "      <td>0.303799</td>\n",
       "      <td>0.301702</td>\n",
       "      <td>0.298936</td>\n",
       "      <td>0.298126</td>\n",
       "      <td>...</td>\n",
       "      <td>-0.716713</td>\n",
       "      <td>-0.090016</td>\n",
       "      <td>-0.861091</td>\n",
       "      <td>-0.537106</td>\n",
       "      <td>-0.722567</td>\n",
       "      <td>-0.646673</td>\n",
       "      <td>1.687734</td>\n",
       "      <td>0.190708</td>\n",
       "      <td>0.056843</td>\n",
       "      <td>Topsoil</td>\n",
       "    </tr>\n",
       "  </tbody>\n",
       "</table>\n",
       "<p>1 rows × 3595 columns</p>\n",
       "</div>"
      ],
      "text/plain": [
       "       PIDN  m7497.96  m7496.04  m7494.11  m7492.18  m7490.25  m7488.32  \\\n",
       "0  XNhoFZW5  0.302553  0.301137  0.299748  0.300354  0.302679  0.303799   \n",
       "\n",
       "   m7486.39  m7484.46  m7482.54   ...         LSTD      LSTN      REF1  \\\n",
       "0  0.301702  0.298936  0.298126   ...    -0.716713 -0.090016 -0.861091   \n",
       "\n",
       "       REF2      REF3      REF7      RELI      TMAP      TMFI    Depth  \n",
       "0 -0.537106 -0.722567 -0.646673  1.687734  0.190708  0.056843  Topsoil  \n",
       "\n",
       "[1 rows x 3595 columns]"
      ]
     },
     "metadata": {},
     "output_type": "display_data"
    }
   ],
   "source": [
    "# Import libraries necessary for this project\n",
    "import numpy as np\n",
    "import pandas as pd\n",
    "from IPython.display import display # Allows the use of display() for DataFrames\n",
    "import matplotlib.pyplot as plt\n",
    "\n",
    "# Pretty display for notebooks\n",
    "%matplotlib inline\n",
    "\n",
    "# Load the African soil dataset\n",
    "data = pd.read_csv(\"training.csv\")\n",
    "\n",
    "# Split off the target variables and place them into a dictionary, then drop from features set\n",
    "target_dict = {'calcium':data['Ca']}\n",
    "target_dict['phosphorous'] = data['P']\n",
    "target_dict['pH'] = data['pH']\n",
    "target_dict['organic_matter'] = data['SOC']\n",
    "target_dict['sand'] = data['Sand']\n",
    "data = data.drop(['Ca', 'P', 'pH', 'SOC', 'Sand'], axis=1)\n",
    "\n",
    "# Success - Display the first record\n",
    "display(data.head(n=1))"
   ]
  },
  {
   "cell_type": "markdown",
   "metadata": {},
   "source": [
    "### Data Exploration\n",
    "Gaining meaningful insights from a statistical analysis of this data set may be quite difficult.  My relative lack of knowledge in the area of spectroscopy is working against me here.  However, there are some things that I can do.  \n",
    "- We can break down our data using the only categorical tag \"Depth\" to see if there is any heavy emphasis on either top or subsoil in the data.\n",
    "- Another thing that I can do is calculate some very simple statistics for a subset of the light absorbtion columns to see if there are any that stick out as being abnormal.  Any abnormalities could be taken into account when analysing or possibly even preprocessing the data"
   ]
  },
  {
   "cell_type": "code",
   "execution_count": 2,
   "metadata": {},
   "outputs": [
    {
     "name": "stdout",
     "output_type": "stream",
     "text": [
      "Topsoil/Subsoil percentages: 50.2160760588%-49.7839239412%\n"
     ]
    }
   ],
   "source": [
    "# Percentage of records in training set that are in the \"Topsoil\" category\n",
    "perc_topsoil = 100 * (data.query(\"Depth == 'Topsoil'\").PIDN.count()) / float(data.PIDN.count())\n",
    "print(\"Topsoil/Subsoil percentages: {}%-{}%\".format(perc_topsoil, 100 - perc_topsoil))"
   ]
  },
  {
   "cell_type": "code",
   "execution_count": 3,
   "metadata": {},
   "outputs": [
    {
     "data": {
      "text/html": [
       "<div>\n",
       "<style scoped>\n",
       "    .dataframe tbody tr th:only-of-type {\n",
       "        vertical-align: middle;\n",
       "    }\n",
       "\n",
       "    .dataframe tbody tr th {\n",
       "        vertical-align: top;\n",
       "    }\n",
       "\n",
       "    .dataframe thead th {\n",
       "        text-align: right;\n",
       "    }\n",
       "</style>\n",
       "<table border=\"1\" class=\"dataframe\">\n",
       "  <thead>\n",
       "    <tr style=\"text-align: right;\">\n",
       "      <th></th>\n",
       "      <th>m6948.34</th>\n",
       "      <th>m6786.35</th>\n",
       "      <th>m6088.24</th>\n",
       "      <th>m5043</th>\n",
       "      <th>m4171.32</th>\n",
       "      <th>m5953.24</th>\n",
       "      <th>m4801.94</th>\n",
       "      <th>m2269.83</th>\n",
       "      <th>m4441.31</th>\n",
       "      <th>m4362.24</th>\n",
       "      <th>m6786.35</th>\n",
       "      <th>m7476.75</th>\n",
       "      <th>m1968.99</th>\n",
       "      <th>m4570.52</th>\n",
       "      <th>m4798.08</th>\n",
       "      <th>m3874.33</th>\n",
       "      <th>m2221.62</th>\n",
       "      <th>m7212.55</th>\n",
       "      <th>m7031.27</th>\n",
       "      <th>m5474.98</th>\n",
       "    </tr>\n",
       "  </thead>\n",
       "  <tbody>\n",
       "    <tr>\n",
       "      <th>count</th>\n",
       "      <td>1157.000000</td>\n",
       "      <td>1157.000000</td>\n",
       "      <td>1157.000000</td>\n",
       "      <td>1157.000000</td>\n",
       "      <td>1157.000000</td>\n",
       "      <td>1157.000000</td>\n",
       "      <td>1157.000000</td>\n",
       "      <td>1157.000000</td>\n",
       "      <td>1157.000000</td>\n",
       "      <td>1157.000000</td>\n",
       "      <td>1157.000000</td>\n",
       "      <td>1157.000000</td>\n",
       "      <td>1157.000000</td>\n",
       "      <td>1157.000000</td>\n",
       "      <td>1157.000000</td>\n",
       "      <td>1157.000000</td>\n",
       "      <td>1157.000000</td>\n",
       "      <td>1157.000000</td>\n",
       "      <td>1157.000000</td>\n",
       "      <td>1157.000000</td>\n",
       "    </tr>\n",
       "    <tr>\n",
       "      <th>mean</th>\n",
       "      <td>0.264065</td>\n",
       "      <td>0.263923</td>\n",
       "      <td>0.256524</td>\n",
       "      <td>0.305938</td>\n",
       "      <td>0.364507</td>\n",
       "      <td>0.257461</td>\n",
       "      <td>0.292953</td>\n",
       "      <td>0.666364</td>\n",
       "      <td>0.320279</td>\n",
       "      <td>0.328545</td>\n",
       "      <td>0.263923</td>\n",
       "      <td>0.235256</td>\n",
       "      <td>1.009803</td>\n",
       "      <td>0.328060</td>\n",
       "      <td>0.293048</td>\n",
       "      <td>0.446136</td>\n",
       "      <td>0.693569</td>\n",
       "      <td>0.255534</td>\n",
       "      <td>0.266401</td>\n",
       "      <td>0.263463</td>\n",
       "    </tr>\n",
       "    <tr>\n",
       "      <th>std</th>\n",
       "      <td>0.113775</td>\n",
       "      <td>0.113684</td>\n",
       "      <td>0.113189</td>\n",
       "      <td>0.117521</td>\n",
       "      <td>0.120335</td>\n",
       "      <td>0.113251</td>\n",
       "      <td>0.113933</td>\n",
       "      <td>0.127849</td>\n",
       "      <td>0.114732</td>\n",
       "      <td>0.115555</td>\n",
       "      <td>0.113684</td>\n",
       "      <td>0.114913</td>\n",
       "      <td>0.121525</td>\n",
       "      <td>0.115148</td>\n",
       "      <td>0.113906</td>\n",
       "      <td>0.135683</td>\n",
       "      <td>0.125747</td>\n",
       "      <td>0.113315</td>\n",
       "      <td>0.113772</td>\n",
       "      <td>0.113170</td>\n",
       "    </tr>\n",
       "    <tr>\n",
       "      <th>min</th>\n",
       "      <td>-0.019934</td>\n",
       "      <td>-0.016243</td>\n",
       "      <td>-0.013183</td>\n",
       "      <td>0.026003</td>\n",
       "      <td>0.064658</td>\n",
       "      <td>-0.011647</td>\n",
       "      <td>0.020798</td>\n",
       "      <td>0.328415</td>\n",
       "      <td>0.037642</td>\n",
       "      <td>0.042519</td>\n",
       "      <td>-0.016243</td>\n",
       "      <td>-0.055382</td>\n",
       "      <td>0.564332</td>\n",
       "      <td>0.043921</td>\n",
       "      <td>0.020862</td>\n",
       "      <td>0.114085</td>\n",
       "      <td>0.365633</td>\n",
       "      <td>-0.033671</td>\n",
       "      <td>-0.021092</td>\n",
       "      <td>-0.003256</td>\n",
       "    </tr>\n",
       "    <tr>\n",
       "      <th>25%</th>\n",
       "      <td>0.187441</td>\n",
       "      <td>0.185296</td>\n",
       "      <td>0.180194</td>\n",
       "      <td>0.228207</td>\n",
       "      <td>0.281542</td>\n",
       "      <td>0.180148</td>\n",
       "      <td>0.217870</td>\n",
       "      <td>0.571499</td>\n",
       "      <td>0.246712</td>\n",
       "      <td>0.253620</td>\n",
       "      <td>0.185296</td>\n",
       "      <td>0.160848</td>\n",
       "      <td>0.933683</td>\n",
       "      <td>0.247083</td>\n",
       "      <td>0.217954</td>\n",
       "      <td>0.346432</td>\n",
       "      <td>0.603084</td>\n",
       "      <td>0.179779</td>\n",
       "      <td>0.190372</td>\n",
       "      <td>0.186800</td>\n",
       "    </tr>\n",
       "    <tr>\n",
       "      <th>50%</th>\n",
       "      <td>0.270243</td>\n",
       "      <td>0.269765</td>\n",
       "      <td>0.261968</td>\n",
       "      <td>0.309884</td>\n",
       "      <td>0.378906</td>\n",
       "      <td>0.262740</td>\n",
       "      <td>0.299655</td>\n",
       "      <td>0.680892</td>\n",
       "      <td>0.329181</td>\n",
       "      <td>0.339288</td>\n",
       "      <td>0.269765</td>\n",
       "      <td>0.244274</td>\n",
       "      <td>1.006310</td>\n",
       "      <td>0.341317</td>\n",
       "      <td>0.299722</td>\n",
       "      <td>0.463243</td>\n",
       "      <td>0.709005</td>\n",
       "      <td>0.264532</td>\n",
       "      <td>0.273057</td>\n",
       "      <td>0.268652</td>\n",
       "    </tr>\n",
       "    <tr>\n",
       "      <th>75%</th>\n",
       "      <td>0.332708</td>\n",
       "      <td>0.331950</td>\n",
       "      <td>0.321972</td>\n",
       "      <td>0.375182</td>\n",
       "      <td>0.443396</td>\n",
       "      <td>0.323114</td>\n",
       "      <td>0.360105</td>\n",
       "      <td>0.759744</td>\n",
       "      <td>0.390163</td>\n",
       "      <td>0.400442</td>\n",
       "      <td>0.331950</td>\n",
       "      <td>0.304905</td>\n",
       "      <td>1.080710</td>\n",
       "      <td>0.403175</td>\n",
       "      <td>0.360080</td>\n",
       "      <td>0.544014</td>\n",
       "      <td>0.784666</td>\n",
       "      <td>0.324997</td>\n",
       "      <td>0.335333</td>\n",
       "      <td>0.327897</td>\n",
       "    </tr>\n",
       "    <tr>\n",
       "      <th>max</th>\n",
       "      <td>0.759737</td>\n",
       "      <td>0.761770</td>\n",
       "      <td>0.756745</td>\n",
       "      <td>0.797262</td>\n",
       "      <td>0.790106</td>\n",
       "      <td>0.757124</td>\n",
       "      <td>0.762603</td>\n",
       "      <td>0.971608</td>\n",
       "      <td>0.753914</td>\n",
       "      <td>0.756785</td>\n",
       "      <td>0.761770</td>\n",
       "      <td>0.718900</td>\n",
       "      <td>1.446760</td>\n",
       "      <td>0.765125</td>\n",
       "      <td>0.762356</td>\n",
       "      <td>0.868140</td>\n",
       "      <td>1.009000</td>\n",
       "      <td>0.739244</td>\n",
       "      <td>0.758178</td>\n",
       "      <td>0.758403</td>\n",
       "    </tr>\n",
       "  </tbody>\n",
       "</table>\n",
       "</div>"
      ],
      "text/plain": [
       "          m6948.34     m6786.35     m6088.24        m5043     m4171.32  \\\n",
       "count  1157.000000  1157.000000  1157.000000  1157.000000  1157.000000   \n",
       "mean      0.264065     0.263923     0.256524     0.305938     0.364507   \n",
       "std       0.113775     0.113684     0.113189     0.117521     0.120335   \n",
       "min      -0.019934    -0.016243    -0.013183     0.026003     0.064658   \n",
       "25%       0.187441     0.185296     0.180194     0.228207     0.281542   \n",
       "50%       0.270243     0.269765     0.261968     0.309884     0.378906   \n",
       "75%       0.332708     0.331950     0.321972     0.375182     0.443396   \n",
       "max       0.759737     0.761770     0.756745     0.797262     0.790106   \n",
       "\n",
       "          m5953.24     m4801.94     m2269.83     m4441.31     m4362.24  \\\n",
       "count  1157.000000  1157.000000  1157.000000  1157.000000  1157.000000   \n",
       "mean      0.257461     0.292953     0.666364     0.320279     0.328545   \n",
       "std       0.113251     0.113933     0.127849     0.114732     0.115555   \n",
       "min      -0.011647     0.020798     0.328415     0.037642     0.042519   \n",
       "25%       0.180148     0.217870     0.571499     0.246712     0.253620   \n",
       "50%       0.262740     0.299655     0.680892     0.329181     0.339288   \n",
       "75%       0.323114     0.360105     0.759744     0.390163     0.400442   \n",
       "max       0.757124     0.762603     0.971608     0.753914     0.756785   \n",
       "\n",
       "          m6786.35     m7476.75     m1968.99     m4570.52     m4798.08  \\\n",
       "count  1157.000000  1157.000000  1157.000000  1157.000000  1157.000000   \n",
       "mean      0.263923     0.235256     1.009803     0.328060     0.293048   \n",
       "std       0.113684     0.114913     0.121525     0.115148     0.113906   \n",
       "min      -0.016243    -0.055382     0.564332     0.043921     0.020862   \n",
       "25%       0.185296     0.160848     0.933683     0.247083     0.217954   \n",
       "50%       0.269765     0.244274     1.006310     0.341317     0.299722   \n",
       "75%       0.331950     0.304905     1.080710     0.403175     0.360080   \n",
       "max       0.761770     0.718900     1.446760     0.765125     0.762356   \n",
       "\n",
       "          m3874.33     m2221.62     m7212.55     m7031.27     m5474.98  \n",
       "count  1157.000000  1157.000000  1157.000000  1157.000000  1157.000000  \n",
       "mean      0.446136     0.693569     0.255534     0.266401     0.263463  \n",
       "std       0.135683     0.125747     0.113315     0.113772     0.113170  \n",
       "min       0.114085     0.365633    -0.033671    -0.021092    -0.003256  \n",
       "25%       0.346432     0.603084     0.179779     0.190372     0.186800  \n",
       "50%       0.463243     0.709005     0.264532     0.273057     0.268652  \n",
       "75%       0.544014     0.784666     0.324997     0.335333     0.327897  \n",
       "max       0.868140     1.009000     0.739244     0.758178     0.758403  "
      ]
     },
     "execution_count": 3,
     "metadata": {},
     "output_type": "execute_result"
    }
   ],
   "source": [
    "# Basic statistical analysis of a subset of columns\n",
    "\n",
    "# Get all headers\n",
    "col_headers = data.columns\n",
    "# Random subset\n",
    "subset = np.random.choice(col_headers, size=20)\n",
    "\n",
    "# Calculate statistics and report for each of the chosen subset\n",
    "subDF = data[subset]\n",
    "subDF.describe()"
   ]
  },
  {
   "cell_type": "markdown",
   "metadata": {},
   "source": [
    "**Results of Exploration:**\n",
    "\n",
    "- We can see that there is a 50-50 split for the soil type so no need to tak anything else into account there.\n",
    "- Similarly, by looking at the simple statistics there doesn't seem to be any need to remove outliers there.  One thing to note is, looking at the means, that there seems to be more absorbtion at the lower wavelegths.  This indicates that it would be a good idea to normalise the column values before doing any analysis"
   ]
  },
  {
   "cell_type": "markdown",
   "metadata": {},
   "source": [
    "### Exploratory Visualization:\n",
    "\n",
    "In this section I will plot the absorbtion across all of the given wavelengths for a random sub-sample of data points.  This is a good visualisation as it will give us an idea which wavelengths we are most likely to get interesting results from.  It can give also us an idea of any general trends in the data.  For example, are there peaks at any particular wavelength?  Or, does every sample follow the same general curve shape with only slight differences at certain points?  Even the question: is the absorbtion of light across the given wavelengths continuous or does it jump around randomly?"
   ]
  },
  {
   "cell_type": "code",
   "execution_count": 4,
   "metadata": {},
   "outputs": [
    {
     "data": {
      "image/png": "[encoded data removed]",
      "text/plain": [
       "<Figure size 432x288 with 1 Axes>"
      ]
     },
     "metadata": {},
     "output_type": "display_data"
    }
   ],
   "source": [
    "import re\n",
    "\n",
    "n_samples = 5\n",
    "\n",
    "#Get random rows from data\n",
    "randIdx = [int(x) for x in len(data) * np.random.random_sample(n_samples,)]\n",
    "samples = data.iloc[randIdx]\n",
    "\n",
    "#Make the PIDN the index column\n",
    "samples.set_index('PIDN', drop=True, inplace=True)\n",
    "\n",
    "#Pick out only the spectral columns\n",
    "specRegex = re.compile('m\\d+.\\d+')\n",
    "specCols = specRegex.findall(\" \".join(data.columns))\n",
    "samples = samples[specCols]\n",
    "\n",
    "#Transpose the samples dataframe for display in graph\n",
    "samples = samples.transpose()\n",
    "\n",
    "#Make a new column with the wavelengths as actual numbers\n",
    "wavelengths = [float(x[1:]) for x in samples.index.values]\n",
    "samples['wavelengths'] = wavelengths\n",
    "\n",
    "#display(samples)\n",
    "sampleIDs=samples.columns[:-1]\n",
    "for column in sampleIDs:\n",
    "    plt.plot(samples['wavelengths'], samples[column])\n",
    "plt.xlabel('Infra-red Wavelengths (cm-1)')\n",
    "plt.ylabel('Light Absorbtion')\n",
    "plt.title('Absorbtion for 5 random soil samples')\n",
    "plt.legend()\n",
    "plt.show()"
   ]
  },
  {
   "cell_type": "markdown",
   "metadata": {},
   "source": [
    "**Results:**\n",
    "\n",
    "The above code plots random soil samples but, from what I have seen, the general trend is the same so you should see a similar graph to me.\n",
    "\n",
    "One thing to note is that there seems to be a general trend that each of the samples follow.  There are major peaks in absorbtion at ~1000cm-1 and ~3600cm-1.  There is a local trough at around 2300cm-1.  The absorbtion patterns can be quite unpredictable from 700-1200cm-1 while after 2500cm-1, they all follow a fairly rigid pattern.  The zones described here could well be good indicators for our target variables so I will keep them in mind as I go through the rest of this exercize"
   ]
  },
  {
   "cell_type": "markdown",
   "metadata": {},
   "source": [
    "### Data Preprocessing\n",
    "\n",
    "In this section I will implement the preprocessing techniques outlined in the capstone report"
   ]
  },
  {
   "cell_type": "code",
   "execution_count": 5,
   "metadata": {
    "collapsed": true
   },
   "outputs": [],
   "source": [
    "from sklearn.feature_selection import SelectKBest, f_regression\n",
    "from sklearn.preprocessing import MinMaxScaler\n",
    "\n",
    "# Change the depth feature to 1s and 0s\n",
    "encoded_data = data.copy(deep=True)\n",
    "encoded_data['Depth'] = encoded_data['Depth'].apply(lambda x: {'Subsoil':0, 'Topsoil':1}[x])\n",
    "# Change index to ID column\n",
    "encoded_data.set_index('PIDN', drop=True, inplace=True)\n",
    "\n",
    "# Normalise the spectral columns to lie between 0 and 1 \n",
    "normalised_data = pd.DataFrame(data = encoded_data)\n",
    "scaler = MinMaxScaler()\n",
    "# All columns apart from the spectral columns have alreadyy been mean centered so there is no great need to adjust them\n",
    "normalised_data[specCols] = scaler.fit_transform(normalised_data[specCols])\n",
    "\n",
    "def select_features(all_features, target_dict, n=50):\n",
    "    target_selected_columns = {}\n",
    "    #Apply feature selection for each of the target variables independantly\n",
    "    for targ in target_dict.keys():\n",
    "        feature_selector = SelectKBest(score_func=f_regression,k=n)\n",
    "        feature_selector.fit(all_features, target_dict[targ])\n",
    "        target_selected_columns[targ] = list(all_features.columns[list(feature_selector.get_support(indices=True))])\n",
    "    return target_selected_columns"
   ]
  },
  {
   "cell_type": "markdown",
   "metadata": {},
   "source": [
    "### Implementation\n",
    "\n",
    "In this section I will apply the machine learning techniques described in the capstone report to build models to predict the 5 target variables"
   ]
  },
  {
   "cell_type": "code",
   "execution_count": 6,
   "metadata": {
    "collapsed": true
   },
   "outputs": [],
   "source": [
    "# Split data into training and test data\n",
    "from sklearn.model_selection import train_test_split\n",
    "\n",
    "# Since I need to train for and predict more than one variable, I'll take a different split of the data for each target\n",
    "# For this purpose I will define data_dict, this is a dictionary of dictionaries\n",
    "# Each target has it's own inner dictionary\n",
    "# Each inner dictionary carries the train + test features and results for one of the target variables\n",
    "def split_data(all_data, target_dict, features_dict):\n",
    "    data_dict={}\n",
    "    for targ in target_dict.keys():\n",
    "        d = {}\n",
    "        # Trim the features data down using the selected columns from before\n",
    "        data_for_target = all_data[features_dict[targ]]\n",
    "        d['trainFeatures'], d['testFeatures'], d['trainTargets'], d['testTargets'] = train_test_split(data_for_target,\n",
    "                                                        target_dict[targ], \n",
    "                                                        test_size = 0.2, \n",
    "                                                        random_state = 9385)\n",
    "        data_dict[targ] = d\n",
    "    return data_dict\n",
    "\n",
    "num_selected_cols = 50\n",
    "features = select_features(normalised_data, target_dict, num_selected_cols)\n",
    "data_dict = split_data(normalised_data, target_dict, features)"
   ]
  },
  {
   "cell_type": "code",
   "execution_count": 7,
   "metadata": {
    "collapsed": true
   },
   "outputs": [],
   "source": [
    "# Random Forrest Regressor\n",
    "from sklearn.ensemble import RandomForestRegressor\n",
    "from sklearn.model_selection import cross_val_score\n",
    "\n",
    "# Store each of the validation scores for each of the target variables in a dictionary\n",
    "# We won't bother storing the actual models as they will be thrown out and improved on in the next section\n",
    "scores_dict = {}\n",
    "# Initialise the forrest scores dictionary\n",
    "scores_dict['forrest'] = {}\n",
    "for targ in data_dict.keys():\n",
    "    regr = RandomForestRegressor(random_state=2965297, n_estimators=50)\n",
    "    target_data = data_dict[targ]\n",
    "    scores = cross_val_score(regr, \n",
    "                             target_data['trainFeatures'], \n",
    "                             target_data['trainTargets'], \n",
    "                             cv=10, \n",
    "                             scoring='neg_mean_squared_error')\n",
    "    scores_dict['forrest'].update({targ:scores.mean()})"
   ]
  },
  {
   "cell_type": "code",
   "execution_count": 8,
   "metadata": {},
   "outputs": [
    {
     "name": "stderr",
     "output_type": "stream",
     "text": [
      "Using TensorFlow backend.\n"
     ]
    }
   ],
   "source": [
    "# Neural Net Regressor\n",
    "# Import the neccessary artifacts\n",
    "from keras.layers import Dense\n",
    "from keras.models import Sequential\n",
    "from keras.wrappers.scikit_learn import KerasRegressor\n",
    "\n",
    "# Base model\n",
    "def model_builder(layer_1_dim):\n",
    "    model = Sequential()    \n",
    "    model.add(Dense(layer_1_dim, input_dim=layer_1_dim, activation='relu'))\n",
    "    model.add(Dense(25, activation='relu'))\n",
    "    model.add(Dense(1))\n",
    "    model.compile(loss='mean_squared_error', optimizer='adam')\n",
    "    return model\n",
    "\n",
    "# Initialise the net scores dictionary\n",
    "scores_dict['net'] = {}\n",
    "# Get validation scores for neural net models and save to the scores dictionary\n",
    "for targ in data_dict.keys():\n",
    "    # Use the \"num_selected_cols\" variable from before to define the shape of the first layer of the net\n",
    "    regr = KerasRegressor(build_fn=model_builder, layer_1_dim=num_selected_cols, epochs=40, verbose=0)\n",
    "    target_data = data_dict[targ]\n",
    "    scores = cross_val_score(regr,\n",
    "                             target_data['trainFeatures'], \n",
    "                             target_data['trainTargets'],\n",
    "                             cv=10,\n",
    "                             scoring='neg_mean_squared_error')\n",
    "    scores_dict['net'].update({targ:scores.mean()})"
   ]
  },
  {
   "cell_type": "markdown",
   "metadata": {},
   "source": [
    "### Refinement\n",
    "\n",
    "In this section I will change the various parameters in order to try and improve validation score.  Once the validation score has been improved to an acceptable level, the final models will be saved for each target variable"
   ]
  },
  {
   "cell_type": "code",
   "execution_count": 9,
   "metadata": {},
   "outputs": [
    {
     "name": "stdout",
     "output_type": "stream",
     "text": [
      "The average error for the Random Forrest method was: -0.473998488812\n",
      "The average error for the Neural Net method was: -0.494581291742\n"
     ]
    }
   ],
   "source": [
    "# Print the validation scores (average across all targets) for both models\n",
    "print \"The average error for the Random Forrest method was: {}\".format(np.mean(scores_dict['forrest'].values()))\n",
    "print \"The average error for the Neural Net method was: {}\".format(np.mean(scores_dict['net'].values()))"
   ]
  },
  {
   "cell_type": "code",
   "execution_count": 10,
   "metadata": {
    "collapsed": true
   },
   "outputs": [],
   "source": [
    "# Improved Random Forrest Regressor\n",
    "# Improvements made were:\n",
    "#  1. To add some parameters to the regressor model\n",
    "#  2. Added a max depth parameter\n",
    "#  3. Added a min samples split parameter\n",
    "\n",
    "num_selected_cols = 100\n",
    "improved_features = select_features(normalised_data, target_dict, num_selected_cols)\n",
    "improved_data_dict = split_data(normalised_data, target_dict, improved_features)\n",
    "\n",
    "#Initialise dictionaries for scores and models\n",
    "improved_scores_dict = {}\n",
    "robustness_measures_dict = {}\n",
    "final_model_dict = {}\n",
    "# Initialise the forrest scores dictionary\n",
    "improved_scores_dict['forrest'] = {}\n",
    "robustness_measures_dict['forrest'] = {}\n",
    "final_model_dict['forrest'] = {}\n",
    "for targ in improved_data_dict.keys():\n",
    "    regr = RandomForestRegressor(random_state=479779, \n",
    "                                 n_estimators=50,\n",
    "                                 # Adding max depth and min_samples_split to reduce overfitting\n",
    "                                 max_depth=20,\n",
    "                                 min_samples_split=10\n",
    "                                )\n",
    "    target_data = improved_data_dict[targ]\n",
    "    scores = cross_val_score(regr, \n",
    "                             target_data['trainFeatures'], \n",
    "                             target_data['trainTargets'], \n",
    "                             cv=10, \n",
    "                             scoring='neg_mean_squared_error')\n",
    "    #Save the scores for all folds so that the robustness of the model can be examined\n",
    "    robustness_measures_dict['forrest'].update({targ:scores})\n",
    "    improved_scores_dict['forrest'].update({targ:scores.mean()})\n",
    "    final_model_dict['forrest'].update({targ:regr})"
   ]
  },
  {
   "cell_type": "code",
   "execution_count": 11,
   "metadata": {
    "collapsed": true
   },
   "outputs": [],
   "source": [
    "# Improved Neural Net Stage 1\n",
    "# Improvements made:\n",
    "#  1. Widened the network architecture (widening is achieved by increasing the feature set in my set up)\n",
    "#  2. Deepened the network architecture \n",
    "#  3. Added dropout layers to deal with overfitting\n",
    "# Result: Mean squared error was actually worse with this model\n",
    "\n",
    "# Improved Neural Net Stage 2\n",
    "# Improvements made:\n",
    "#  1. Changed the activations from relu to tanh\n",
    "#  2. Took 13 nodes out of the second to last layer\n",
    "\n",
    "from keras.layers import Dropout\n",
    "\n",
    "# Base model\n",
    "def improved_model_builder(layer_1_dim):\n",
    "    model = Sequential()    \n",
    "    model.add(Dense(layer_1_dim, input_dim=layer_1_dim, activation='tanh'))\n",
    "    model.add(Dropout(0.3))\n",
    "    model.add(Dense(50, activation='tanh'))\n",
    "    model.add(Dropout(0.3))\n",
    "    model.add(Dense(12, activation='tanh'))\n",
    "    model.add(Dense(1))\n",
    "    model.compile(loss='mean_squared_error', optimizer='adam')\n",
    "    return model\n",
    "\n",
    "# Initialise the net scores dictionary and final model dict\n",
    "improved_scores_dict['net'] = {}\n",
    "robustness_measures_dict['net'] = {}\n",
    "final_model_dict['net'] = {}\n",
    "\n",
    "# Get validation scores for neural net models and save to the scores dictionary\n",
    "for targ in improved_data_dict.keys():\n",
    "    # Use the \"num_selected_cols\" variable from before to define the shape of the first layer of the net\n",
    "    regr = KerasRegressor(build_fn=improved_model_builder, layer_1_dim=num_selected_cols, epochs=50, verbose=0)\n",
    "    target_data = improved_data_dict[targ]\n",
    "    scores = cross_val_score(regr,\n",
    "                             target_data['trainFeatures'], \n",
    "                             target_data['trainTargets'],\n",
    "                             cv=10,\n",
    "                             scoring='neg_mean_squared_error')\n",
    "    improved_scores_dict['net'].update({targ:scores.mean()})\n",
    "    robustness_measures_dict['net'].update({targ:scores})\n",
    "    final_model_dict['net'].update({targ:regr})"
   ]
  },
  {
   "cell_type": "code",
   "execution_count": 12,
   "metadata": {},
   "outputs": [
    {
     "name": "stdout",
     "output_type": "stream",
     "text": [
      "The average error for the Random Forrest method was: -0.432118542088\n",
      "The average error for the Neural Net method was: -0.478087080456\n"
     ]
    }
   ],
   "source": [
    "print \"The average error for the Random Forrest method was: {}\".format(np.mean(improved_scores_dict['forrest'].values()))\n",
    "print \"The average error for the Neural Net method was: {}\".format(np.mean(improved_scores_dict['net'].values()))"
   ]
  },
  {
   "cell_type": "markdown",
   "metadata": {},
   "source": [
    "### Final tuning and Predictions\n",
    "\n",
    "In this final section of the implementation I will decide how to weight the results from the two models I have built.  The weights will be applied per target variable and will be based on that model's ability to predict the given target variable"
   ]
  },
  {
   "cell_type": "code",
   "execution_count": 13,
   "metadata": {},
   "outputs": [
    {
     "name": "stdout",
     "output_type": "stream",
     "text": [
      "{'calcium': -0.1660207591905012, 'pH': -0.23202710397961263, 'organic_matter': -0.48569714060588487, 'sand': -0.34870000022864056, 'phosphorous': -0.9281477064375485}\n"
     ]
    }
   ],
   "source": [
    "# Scores for individual target variables for the random forrest\n",
    "print improved_scores_dict['forrest']"
   ]
  },
  {
   "cell_type": "code",
   "execution_count": 14,
   "metadata": {},
   "outputs": [
    {
     "name": "stdout",
     "output_type": "stream",
     "text": [
      "{'calcium': -0.21807627439971822, 'pH': -0.3022052347509357, 'organic_matter': -0.641967318248227, 'sand': -0.38904827792901864, 'phosphorous': -0.8391382969499295}\n"
     ]
    }
   ],
   "source": [
    "# Scores for individual target variables for the neural net\n",
    "print improved_scores_dict['net']"
   ]
  },
  {
   "cell_type": "markdown",
   "metadata": {},
   "source": [
    "We see above that the random forrest regressor beats the neural net for almost all of the target variables.  For this reason it will get a higher weighting on all but the phosphorous prediction.  To get the final weights I will just compute a ratio of the inverted errors.  Thus any target with a lower error will get a higher weight"
   ]
  },
  {
   "cell_type": "code",
   "execution_count": 15,
   "metadata": {
    "collapsed": true
   },
   "outputs": [],
   "source": [
    "# Compute the weights based on the cross-validation scores\n",
    "weights_dict = {}\n",
    "for targ in target_dict.keys():\n",
    "    weights_dict[targ] = [(1/improved_scores_dict['forrest'][targ])/(1/improved_scores_dict['net'][targ]), 1.0]\n",
    "\n",
    "# Using the weights and our models, make final predictions\n",
    "final_predictions_dict = {}\n",
    "for targ in weights_dict.keys():\n",
    "    targ_data = improved_data_dict[targ]\n",
    "    for_model = final_model_dict['forrest'][targ]\n",
    "    net_model = final_model_dict['net'][targ]\n",
    "    # First the models have to be fitted to the training data\n",
    "    for_model.fit(targ_data['trainFeatures'], targ_data['trainTargets'])\n",
    "    net_model.fit(targ_data['trainFeatures'], targ_data['trainTargets'])\n",
    "    # Then, predictions can be made\n",
    "    for_pred = for_model.predict(targ_data['testFeatures'])\n",
    "    net_pred = net_model.predict(targ_data['testFeatures'])\n",
    "    final_predictions_dict[targ] = [np.average(x, weights=weights_dict[targ]) for x in zip(for_pred, net_pred)]"
   ]
  },
  {
   "cell_type": "markdown",
   "metadata": {},
   "source": [
    "### Model Evaluation\n",
    "\n",
    "This section will provide an implementation of the evaluation metric as described in the projet report.  The predictions obtained in the previous section will be compared against the actual results via the aforementioned evaluation metric.  The results of this step will provide the basis for my overall evaluation of the model"
   ]
  },
  {
   "cell_type": "code",
   "execution_count": 16,
   "metadata": {},
   "outputs": [
    {
     "name": "stdout",
     "output_type": "stream",
     "text": [
      "The overall error achieved by this model is: 0.769472723075\n"
     ]
    }
   ],
   "source": [
    "# Evaluation metric: mean columnwise root mean squared error\n",
    "def MCRMSE(predictions, results):\n",
    "    target_errors = []\n",
    "    for targ in predictions.keys():\n",
    "        errors = [np.square(y-x) for x,y in list(zip(predictions[targ], results[targ]))]\n",
    "        target_errors.append(np.sqrt(np.mean(errors)))\n",
    "    return np.mean(target_errors)\n",
    "\n",
    "# Re-jig the testTargets part of the split data to the form that we need for the MCRMSE function\n",
    "results = {}\n",
    "for targ in improved_data_dict.keys():\n",
    "    results[targ] = improved_data_dict[targ]['testTargets']\n",
    "\n",
    "print \"The overall error achieved by this model is: {}\".format(MCRMSE(final_predictions_dict, results))"
   ]
  },
  {
   "cell_type": "markdown",
   "metadata": {},
   "source": [
    "### Robustness Evaluation"
   ]
  },
  {
   "cell_type": "code",
   "execution_count": 17,
   "metadata": {},
   "outputs": [
    {
     "name": "stdout",
     "output_type": "stream",
     "text": [
      "Showing results for the net algorithm\n",
      "\n",
      "All scores for calcium\n",
      "[-0.28718664 -0.32835136 -0.11185552 -0.17693683 -0.13403711 -0.12759216\n",
      " -0.14889344 -0.45912398 -0.2741369  -0.13264881]\n",
      "Standard deviation: 0.108854490422\n",
      "\n",
      "All scores for pH\n",
      "[-0.33560138 -0.2344647  -0.25470049 -0.26026126 -0.31808395 -0.35860246\n",
      " -0.22186258 -0.37926358 -0.31131671 -0.34789523]\n",
      "Standard deviation: 0.0526463551873\n",
      "\n",
      "All scores for organic_matter\n",
      "[-0.65260526 -0.54958376 -0.37874387 -0.69050535 -0.83551349 -0.61472656\n",
      " -0.54749158 -0.59549533 -0.73351193 -0.82149606]\n",
      "Standard deviation: 0.130456461193\n",
      "\n",
      "All scores for sand\n",
      "[-0.39706785 -0.34901175 -0.28019144 -0.52435059 -0.36581264 -0.3465142\n",
      " -0.33501402 -0.45808261 -0.348635   -0.48580268]\n",
      "Standard deviation: 0.0726999967046\n",
      "\n",
      "All scores for phosphorous\n",
      "[-0.41897025 -1.0268877  -0.85900093 -0.21372908 -0.88321347 -0.27394548\n",
      " -0.37822816 -0.47145672 -2.18736541 -1.67858578]\n",
      "Standard deviation: 0.616013319233\n",
      "\n",
      "\n",
      "Showing results for the forrest algorithm\n",
      "\n",
      "All scores for calcium\n",
      "[-0.1598864  -0.23756169 -0.04231893 -0.14726107 -0.08105092 -0.0971698\n",
      " -0.10493482 -0.57061299 -0.10416102 -0.11524994]\n",
      "Standard deviation: 0.143736146786\n",
      "\n",
      "All scores for pH\n",
      "[-0.25306704 -0.19677803 -0.19414678 -0.24512816 -0.21903119 -0.27194404\n",
      " -0.20082169 -0.23924875 -0.26625872 -0.23384664]\n",
      "Standard deviation: 0.026935169375\n",
      "\n",
      "All scores for organic_matter\n",
      "[-0.46719296 -0.47992513 -0.39118188 -0.43257663 -0.45795662 -0.54151102\n",
      " -0.37872941 -0.44531706 -0.67421652 -0.58836417]\n",
      "Standard deviation: 0.0866995328028\n",
      "\n",
      "All scores for sand\n",
      "[-0.39349972 -0.36470566 -0.27147474 -0.41035763 -0.32097541 -0.29946436\n",
      " -0.29219771 -0.39313718 -0.29100333 -0.45018426]\n",
      "Standard deviation: 0.0583236935205\n",
      "\n",
      "All scores for phosphorous\n",
      "[-0.44956202 -1.07509252 -0.83709437 -0.21902736 -1.08261438 -0.37671622\n",
      " -0.40490749 -0.5491805  -2.63286269 -1.65441951]\n",
      "Standard deviation: 0.702896608896\n",
      "\n",
      "\n"
     ]
    }
   ],
   "source": [
    "# Measure the robustness of the models by examining the ranges of accuracy from cross validation\n",
    "for alg, d in robustness_measures_dict.iteritems():\n",
    "    print \"Showing results for the {} algorithm\".format(alg)\n",
    "    print \"\"\n",
    "    for targ, scores in d.iteritems():\n",
    "        print \"All scores for {}\".format(targ)\n",
    "        print scores\n",
    "        print \"Standard deviation: {}\".format(np.std(scores))\n",
    "        print \"\"\n",
    "    print \"\""
   ]
  },
  {
   "cell_type": "markdown",
   "metadata": {},
   "source": [
    "__Free Form Visual__\n",
    "\n",
    "I will average the spectral details of all the samples and plot in a single graph.  This will be overlayed with the specta deemed most important when predicting each of the target variables.  This information will be taken from the feature selection step.  This should hopefully give some insight into trends that the algorithms picked up as part of the process"
   ]
  },
  {
   "cell_type": "code",
   "execution_count": 18,
   "metadata": {},
   "outputs": [
    {
     "data": {
      "image/png": "[encoded data removed]",
      "text/plain": [
       "<Figure size 1440x720 with 2 Axes>"
      ]
     },
     "metadata": {},
     "output_type": "display_data"
    }
   ],
   "source": [
    "import matplotlib.patches as mpatches\n",
    "\n",
    "# Re-used variables\n",
    "#   wavelengths - exhaustive set of all wavelengths in float form rather than their label form\n",
    "#   data - data from before normalization and splitting\n",
    "#   specCols - Set of columns from the data that are spectral in nature\n",
    "#   improved_features - Set of features used for the the refined solution above\n",
    "\n",
    "# New figure\n",
    "fig,ax1 = plt.subplots(figsize=(20,10))\n",
    "\n",
    "# Get medians of all samples\n",
    "spectralMeds = [data[col].mean() for col in specCols]\n",
    "# Plot medians on a new chart\n",
    "ax1.plot(wavelengths, spectralMeds)\n",
    "ax1.set_ylabel('Light Absorbtion')\n",
    "ax1.set_xlabel('Infra-red Wavelengths (cm-1)')\n",
    "ax1.set_title('Important Absorbtion Frequencies')\n",
    "#Add new y-axis\n",
    "ax2 = ax1.twinx()\n",
    "ax2.yaxis.set_ticklabels([])\n",
    "\n",
    "coloursDict = {'calcium':'red', 'phosphorous':'blue', 'pH':'orange', 'organic_matter':'green', 'sand':'yellow'}\n",
    "\n",
    "for targ in improved_features.keys():\n",
    "    # Get only the spectral columns from the latest set of selected features per target\n",
    "    targSpecCols = specRegex.findall(\" \".join(improved_features[targ]))\n",
    "    # Change into actual floats\n",
    "    targWLs = [float(x[1:]) for x in targSpecCols]\n",
    "    # Make lists of 1's and zeros.  1's where a spectral line is relevant for a target 0 where not\n",
    "    barVals = [1 if y in targWLs else 0 for y in wavelengths]\n",
    "    # Plot these on a separate 0-1 y-axis \n",
    "    ax2.bar(wavelengths, barVals, width=1.0, color=coloursDict[targ])\n",
    "    \n",
    "# Build the graph legend\n",
    "patches = [mpatches.Patch(color=colour, label=targ) for targ,colour in coloursDict.iteritems()]\n",
    "plt.legend(bbox_to_anchor=(1,1), handles=patches)\n",
    "\n",
    "fig.tight_layout()\n",
    "plt.show()"
   ]
  }
 ],
 "metadata": {
  "kernelspec": {
   "display_name": "Python 3",
   "language": "python",
   "name": "python3"
  },
  "language_info": {
   "codemirror_mode": {
    "name": "ipython",
    "version": 3
   },
   "file_extension": ".py",
   "mimetype": "text/x-python",
   "name": "python",
   "nbconvert_exporter": "python",
   "pygments_lexer": "ipython3",
   "version": "3.6.3"
  }
 },
 "nbformat": 4,
 "nbformat_minor": 2
}
